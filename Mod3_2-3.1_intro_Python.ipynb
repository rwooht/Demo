{
 "cells": [
  {
   "cell_type": "markdown",
   "metadata": {},
   "source": [
    "# 2-3.1 Intro Python\n",
    "# The Power of List Iteration\n",
    "- **for in: `for` loop using `in`**\n",
    "- for range: **`for range(start,stop,step)`** \n",
    "- more list methods: **`.extend()`, `+, .reverse(), .sort()`**   \n",
    "- strings to lists, **`.split()`**, and list to strings, **`.join()`**   \n",
    "\n",
    "\n",
    "----- \n",
    "\n",
    "><font size=\"5\" color=\"#00A0B2\"  face=\"verdana\"> <B>Student will be able to</B></font>  \n",
    "- **Iterate through Lists** using **`for`** with **`in`**\n",
    "- Use **`for range()`** in looping operations  \n",
    "- Use list methods **`.extend()`, `+, .reverse(), .sort()`**  \n",
    "- convert between lists and strings using  **`.split()`** and **`.join()`**  "
   ]
  },
  {
   "cell_type": "markdown",
   "metadata": {
    "collapsed": true
   },
   "source": [
    "# &nbsp;\n",
    "<font size=\"6\" color=\"#00A0B2\"  face=\"verdana\"> <B>Concepts</B></font>\n",
    "## Iterate through Lists using \n",
    "# ` for in`\n",
    "[![view video](https://iajupyterprodblobs.blob.core.windows.net/imagecontainer/common/play_video.png)]( http://edxinteractivepage.blob.core.windows.net/edxpages/f7cff1a7-5601-48a1-95a6-fd1fdfabd20e.html?details=[{\"src\":\"http://jupyternootbookwams.streaming.mediaservices.windows.net/3545f443-d2b5-4d77-9a8c-cfe07976c697/Unit2_Section3.1a-Iterate_through_Lists.ism/manifest\",\"type\":\"application/vnd.ms-sstr+xml\"}],[{\"src\":\"http://jupyternootbookwams.streaming.mediaservices.windows.net/3545f443-d2b5-4d77-9a8c-cfe07976c697/Unit2_Section3.1a-Iterate_through_Lists.vtt\",\"srclang\":\"en\",\"kind\":\"subtitles\",\"label\":\"english\"}])\n",
    "```python\n",
    "cities = [\"New York\", \"Shanghai\", \"Munich\", \"Tokyo\", \"Dubai\", \"Mexico City\", \"São Paulo\", \"Hyderabad\"]\n",
    "\n",
    "for city in cities:\n",
    "    print(city)\n",
    "```"
   ]
  },
  {
   "cell_type": "markdown",
   "metadata": {},
   "source": [
    "# &nbsp;\n",
    "<font size=\"6\" color=\"#00A0B2\"  face=\"verdana\"> <B>Examples</B></font>"
   ]
  },
  {
   "cell_type": "code",
   "execution_count": 5,
   "metadata": {},
   "outputs": [
    {
     "name": "stdout",
     "output_type": "stream",
     "text": [
      "New York\n",
      "Shanghai\n",
      "Munich\n",
      "Tokyo\n",
      "Dubai\n",
      "Mexico City\n",
      "São Paulo\n",
      "Hyderabad\n"
     ]
    }
   ],
   "source": [
    "# [ ] review and run example\n",
    "cities = [\"New York\", \"Shanghai\", \"Munich\", \"Tokyo\", \"Dubai\", \"Mexico City\", \"São Paulo\", \"Hyderabad\"]\n",
    "\n",
    "for city in cities:\n",
    "    print(city)"
   ]
  },
  {
   "cell_type": "code",
   "execution_count": 6,
   "metadata": {},
   "outputs": [
    {
     "name": "stdout",
     "output_type": "stream",
     "text": [
      "total sales: 124\n"
     ]
    }
   ],
   "source": [
    "# [ ] review and run example\n",
    "sales = [6, 8, 9, 11, 12, 17, 19, 20, 22]\n",
    "total = 0\n",
    "\n",
    "for sale in sales:\n",
    "    total += sale\n",
    "    \n",
    "print(\"total sales:\", total)\n",
    "    \n"
   ]
  },
  {
   "cell_type": "markdown",
   "metadata": {},
   "source": [
    "change the iterator variable name from \"sale\" to \"dollars\" or to any valid name"
   ]
  },
  {
   "cell_type": "code",
   "execution_count": 7,
   "metadata": {},
   "outputs": [
    {
     "name": "stdout",
     "output_type": "stream",
     "text": [
      "total sales: 124\n"
     ]
    }
   ],
   "source": [
    "# [ ] review and run example \n",
    "sales = [6, 8, 9, 11, 12, 17, 19, 20, 22]\n",
    "total = 0\n",
    "\n",
    "for dollars in sales:\n",
    "    total += dollars\n",
    "    \n",
    "print(\"total sales:\", total)"
   ]
  },
  {
   "cell_type": "markdown",
   "metadata": {
    "collapsed": true
   },
   "source": [
    "# &nbsp;\n",
    "<font size=\"6\" color=\"#B24C00\"  face=\"verdana\"> <B>Task 1</B></font>\n",
    "\n",
    "### Iterate through Lists using `in`"
   ]
  },
  {
   "cell_type": "code",
   "execution_count": 8,
   "metadata": {},
   "outputs": [
    {
     "name": "stdout",
     "output_type": "stream",
     "text": [
      "Afxgxdf\n",
      "Bfdxfdx\n",
      "cfdfdx\n"
     ]
    }
   ],
   "source": [
    "# [ ] create a list of 4 to 6 strings: birds\n",
    "# print each bird in the list\n",
    "\n",
    "birds=['Afxgxdf','Bfdxfdx','cfdfdx']\n",
    "\n",
    "for bird in birds:\n",
    "    print(bird)\n",
    "\n"
   ]
  },
  {
   "cell_type": "code",
   "execution_count": 9,
   "metadata": {},
   "outputs": [
    {
     "name": "stdout",
     "output_type": "stream",
     "text": [
      "2\n",
      "4\n",
      "10\n",
      "16\n",
      "18\n",
      "12\n",
      "6\n"
     ]
    }
   ],
   "source": [
    "# [ ]  create a list of 7 integers: player_points\n",
    "# [ ] print double the points for each point value\n",
    "nums=[1,2,5,8,9,6,3]\n",
    "\n",
    "for num in nums:\n",
    "    print(num*2)\n",
    "\n",
    "\n"
   ]
  },
  {
   "cell_type": "code",
   "execution_count": 10,
   "metadata": {},
   "outputs": [
    {
     "name": "stdout",
     "output_type": "stream",
     "text": [
      "Afxgxdf Bfdxfdx cfdfdx \n"
     ]
    }
   ],
   "source": [
    "# [ ] create long_string by concatenating the items in the \"birds\" list previously created\n",
    "# print long_string - make sure to put a space betweeen the bird names\n",
    "long_string=\"\"\n",
    "\n",
    "for bird in birds:\n",
    "    long_string += bird + \" \"\n",
    "        \n",
    "print(long_string)"
   ]
  },
  {
   "cell_type": "markdown",
   "metadata": {},
   "source": [
    "# &nbsp;\n",
    "<font size=\"6\" color=\"#00A0B2\"  face=\"verdana\"> <B>Concepts</B></font>\n",
    "## Sort and Filter\n",
    "\n",
    "[![view video](https://iajupyterprodblobs.blob.core.windows.net/imagecontainer/common/play_video.png)]( http://edxinteractivepage.blob.core.windows.net/edxpages/f7cff1a7-5601-48a1-95a6-fd1fdfabd20e.html?details=[{\"src\":\"http://jupyternootbookwams.streaming.mediaservices.windows.net/32652fe3-7d3e-4b7b-b9fb-7f87a6c0ad59/Unit2_Section3.1b-Sort_and_Filter.ism/manifest\",\"type\":\"application/vnd.ms-sstr+xml\"}],[{\"src\":\"http://jupyternootbookwams.streaming.mediaservices.windows.net/32652fe3-7d3e-4b7b-b9fb-7f87a6c0ad59/Unit2_Section3.1b-Sort_and_Filter.vtt\",\"srclang\":\"en\",\"kind\":\"subtitles\",\"label\":\"english\"}])\n",
    "### use comparison operators while iterating lists\n"
   ]
  },
  {
   "cell_type": "markdown",
   "metadata": {},
   "source": [
    "### &nbsp;\n",
    "<font size=\"6\" color=\"#00A0B2\"  face=\"verdana\"> <B>Examples</B></font>"
   ]
  },
  {
   "cell_type": "code",
   "execution_count": 11,
   "metadata": {},
   "outputs": [
    {
     "name": "stdout",
     "output_type": "stream",
     "text": [
      "\n",
      "calcaneus\n",
      "talus\n",
      "cuboid\n",
      "navicular\n",
      "\n",
      "lateral cuneiform\n",
      "intermediate cuneiform\n",
      "medial cuneiform\n"
     ]
    }
   ],
   "source": [
    "# [ ] review and run example of sorting into strings to display\n",
    "foot_bones = [\"calcaneus\", \"talus\", \"cuboid\", \"navicular\", \"lateral cuneiform\", \n",
    "            \"intermediate cuneiform\", \"medial cuneiform\"]\n",
    "longer_names = \"\"\n",
    "shorter_names = \"\"\n",
    "\n",
    "for bone_name in foot_bones:\n",
    "    if len(bone_name) < 10:\n",
    "        shorter_names += \"\\n\" + bone_name\n",
    "    else:\n",
    "        longer_names += \"\\n\" + bone_name\n",
    "\n",
    "print(shorter_names)\n",
    "print(longer_names)\n"
   ]
  },
  {
   "cell_type": "code",
   "execution_count": 12,
   "metadata": {},
   "outputs": [
    {
     "name": "stdout",
     "output_type": "stream",
     "text": [
      "['CALCANEUS', 'TALUS', 'CUBOID', 'NAVICULAR']\n",
      "['LATERAL CUNEIFORM', 'INTERMEDIATE CUNEIFORM', 'MEDIAL CUNEIFORM']\n"
     ]
    }
   ],
   "source": [
    "# [ ] review and run example of sorting into lists\n",
    "foot_bones = [\"calcaneus\", \"talus\", \"cuboid\", \"navicular\", \"lateral cuneiform\", \n",
    "            \"intermediate cuneiform\", \"medial cuneiform\"]\n",
    "longer_names = []\n",
    "shorter_names = []\n",
    "\n",
    "for bone_name in foot_bones:\n",
    "    if len(bone_name) < 10:\n",
    "        shorter_names.append(bone_name.upper())\n",
    "    else:\n",
    "        longer_names.append(bone_name.upper())\n",
    "\n",
    "print(shorter_names)\n",
    "print(longer_names)"
   ]
  },
  {
   "cell_type": "markdown",
   "metadata": {
    "collapsed": true
   },
   "source": [
    "# &nbsp;\n",
    "<font size=\"6\" color=\"#B24C00\"  face=\"verdana\"> <B>Task 2</B></font>\n",
    "\n",
    "## sort and filter"
   ]
  },
  {
   "cell_type": "code",
   "execution_count": 13,
   "metadata": {},
   "outputs": [
    {
     "name": "stdout",
     "output_type": "stream",
     "text": [
      "Munich Mexico City \n"
     ]
    }
   ],
   "source": [
    "# [ ] Using cities from the example above iterate throught the list using \"for\"/\"in\"\n",
    "# [ ] Print only cities starting with \"m\"\n",
    "mcities=\"\"\n",
    "\n",
    "for city in cities:\n",
    "    if city[0].lower()==\"m\":\n",
    "        mcities+=city+\" \"\n",
    "        \n",
    "print(mcities)        \n",
    "        \n"
   ]
  },
  {
   "cell_type": "code",
   "execution_count": 14,
   "metadata": {},
   "outputs": [
    {
     "name": "stdout",
     "output_type": "stream",
     "text": [
      "A Cities: ['Shanghai', 'Dubai', 'São Paulo', 'Hyderabad']\n",
      "Non-A Cities: ['New York', 'Munich', 'Tokyo', 'Mexico City']\n"
     ]
    }
   ],
   "source": [
    "# [ ] Using cities from the example above iterate throught the list using \"for\"/\"in\"\n",
    "# cities = [\"New York\", \"Shanghai\", \"Munich\", \"Tokyo\", \"Dubai\", \"Mexico City\", \"São Paulo\", \"Hyderabad\"]\n",
    "# [ ] sort into lists with \"A\" in the city name and without \"A\" in the name: a_city & no_a_city\n",
    "\n",
    "acities=[]\n",
    "nonacities=[]\n",
    "\n",
    "for city in cities:\n",
    "    if \"a\" in city.lower():\n",
    "        acities.append(city)\n",
    "    else:\n",
    "        nonacities.append(city)\n",
    "        \n",
    "print(\"A Cities:\",acities)\n",
    "print(\"Non-A Cities:\",nonacities)\n",
    "\n"
   ]
  },
  {
   "cell_type": "markdown",
   "metadata": {
    "collapsed": true
   },
   "source": [
    "# &nbsp;\n",
    "<font size=\"6\" color=\"#00A0B2\"  face=\"verdana\"> <B>Concepts</B></font>  \n",
    "## More iteration of lists\n",
    "## - Counting\n",
    "## - Searching\n",
    "\n",
    "[![view video](https://iajupyterprodblobs.blob.core.windows.net/imagecontainer/common/play_video.png)]( http://edxinteractivepage.blob.core.windows.net/edxpages/f7cff1a7-5601-48a1-95a6-fd1fdfabd20e.html?details=[{\"src\":\"http://jupyternootbookwams.streaming.mediaservices.windows.net/72acdbd5-454d-4900-b381-387ad49596f1/Unit2_Section3.1c_count_in_iteration.ism/manifest\",\"type\":\"application/vnd.ms-sstr+xml\"}],[{\"src\":\"http://jupyternootbookwams.streaming.mediaservices.windows.net/72acdbd5-454d-4900-b381-387ad49596f1/Unit2_Section3.1c_count_in_iteration.vtt\",\"srclang\":\"en\",\"kind\":\"subtitles\",\"label\":\"english\"}])\n",
    "### use string methods while iterating lists"
   ]
  },
  {
   "cell_type": "markdown",
   "metadata": {},
   "source": [
    "# &nbsp;\n",
    "<font size=\"6\" color=\"#00A0B2\"  face=\"verdana\"> <B>Examples</B></font>"
   ]
  },
  {
   "cell_type": "code",
   "execution_count": 15,
   "metadata": {},
   "outputs": [
    {
     "name": "stdout",
     "output_type": "stream",
     "text": [
      "The total # of \"n\" found in the list is 8\n"
     ]
    }
   ],
   "source": [
    "# [ ] review and run example\n",
    "# iterates the \"cities\" list, count & sum letter \"a\" in each city name\n",
    "\n",
    "cities = [\"New York\", \"Shanghai\", \"Munich\", \"Tokyo\", \"Dubai\", \"Mexico City\", \"São Paulo\", \"Hyderabad\",\"NnNnN\"]\n",
    "search_letter = \"n\"\n",
    "total = 0\n",
    "\n",
    "for city_name in cities:\n",
    "    total += city_name.lower().count(search_letter)\n",
    "\n",
    "print(\"The total # of \\\"\" + search_letter + \"\\\" found in the list is\", total)"
   ]
  },
  {
   "cell_type": "markdown",
   "metadata": {},
   "source": [
    "<font size=\"4\" color=\"#00A0B2\"  face=\"verdana\"> <B>search function</B></font>\n",
    "[![view video](https://iajupyterprodblobs.blob.core.windows.net/imagecontainer/common/play_video.png)](http://edxinteractivepage.blob.core.windows.net/edxpages/f7cff1a7-5601-48a1-95a6-fd1fdfabd20e.html?details=[{\"src\":\"http://jupyternootbookwams.streaming.mediaservices.windows.net/2fa709be-5857-4291-beee-4d893d93468e/Unit2_Section3.1d_city_search_function.ism/manifest\",\"type\":\"application/vnd.ms-sstr+xml\"}],[{\"src\":\"http://jupyternootbookwams.streaming.mediaservices.windows.net/2fa709be-5857-4291-beee-4d893d93468e/Unit2_Section3.1d_city_search_function.vtt\",\"srclang\":\"en\",\"kind\":\"subtitles\",\"label\":\"english\"}])"
   ]
  },
  {
   "cell_type": "code",
   "execution_count": 16,
   "metadata": {},
   "outputs": [
    {
     "name": "stdout",
     "output_type": "stream",
     "text": [
      "enter a city visited: tokyo\n",
      "tokyo in default cities is True\n",
      "tokyo in visitied_cites list is True\n"
     ]
    }
   ],
   "source": [
    "# [ ] review and run example\n",
    "# city_search function has a default list of cities to search\n",
    "def city_search(search_item, cities = [\"New York\", \"Shanghai\", \"Munich\", \"Tokyo\"] ):\n",
    "    for city in cities:\n",
    "        if city.lower() == search_item.lower():\n",
    "            return True\n",
    "        else:\n",
    "            # go to the next item\n",
    "            pass\n",
    "    # no more items in list\n",
    "    return False\n",
    "\n",
    "# a list of cities\n",
    "visited_cities = [\"New York\", \"Shanghai\", \"Munich\", \"Tokyo\", \"Dubai\", \"Mexico City\", \"São Paulo\", \"Hyderabad\"]\n",
    "\n",
    "search = input(\"enter a city visited: \")\n",
    "\n",
    "# Search the default city list\n",
    "print(search, \"in default cities is\", city_search(search))\n",
    "\n",
    "# search the list visited_cities using 2nd argument\n",
    "print(search, \"in visitied_cites list is\", city_search(search,visited_cities))"
   ]
  },
  {
   "cell_type": "markdown",
   "metadata": {},
   "source": [
    "# &nbsp;\n",
    "<font size=\"6\" color=\"#B24C00\"  face=\"verdana\"> <B>Task 3</B></font>  \n",
    "## Program: Paint Stock  \n",
    "check a list for a paint color request and print status of color \"found\"/\"not found\"\n",
    "- create list, paint_colors, with 5+ colors\n",
    "- get user input of string:color_request\n",
    "- iterate through each color in paint_colors to check for a match with color_request"
   ]
  },
  {
   "cell_type": "code",
   "execution_count": 41,
   "metadata": {},
   "outputs": [
    {
     "name": "stdout",
     "output_type": "stream",
     "text": [
      "input color: red\n",
      "match\n"
     ]
    }
   ],
   "source": [
    "# [ ] complete paint stock\n",
    "\n",
    "paint_colors=[\"red\",\"blue\",\"yellow\",\"green\",\"white\"]\n",
    "\n",
    "color_request=input(\"input color: \")\n",
    "\n",
    "if color_request in paint_colors:\n",
    "    print(\"match\")\n",
    "else:\n",
    "    print(\"no match\")\n",
    "    \n",
    "\n"
   ]
  },
  {
   "cell_type": "markdown",
   "metadata": {
    "collapsed": true
   },
   "source": [
    "# &nbsp;\n",
    "<font size=\"6\" color=\"#B24C00\"  face=\"verdana\"> <B>Task 4</B></font>  \n",
    "## Program: Foot Bones Quiz\n",
    "**Create a function** that will iterate through foot_bones looking for a match of a string argument\n",
    "- Call the function 2 times with the name of a footbone \n",
    "- print immediate feedback for each answer (correct - incorrect)\n",
    "- print the total # of foot_bones identified\n",
    "\n",
    "\n",
    "The program will use the foot_bones list:\n",
    "```python \n",
    "foot_bones = [\"calcaneus\", \"talus\", \"cuboid\", \"navicular\", \"lateral cuneiform\",\n",
    "             \"intermediate cuneiform\", \"medial cuneiform\"]\n",
    "```\n",
    "Bonus: remove correct response item from list if correct so user cannot answer same item twice"
   ]
  },
  {
   "cell_type": "code",
   "execution_count": 2,
   "metadata": {},
   "outputs": [
    {
     "name": "stdout",
     "output_type": "stream",
     "text": [
      "Correct\n",
      "['calcaneus', 'cuboid', 'navicular', 'lateral cuneiform', 'intermediate cuneiform', 'medial cuneiform']\n",
      "total foot bones =  6\n"
     ]
    }
   ],
   "source": [
    "# [ ] Complete Foot Bones Quiz\n",
    "foot_bones = [\"calcaneus\", \"talus\", \"cuboid\", \"navicular\", \"lateral cuneiform\",\n",
    "              \"intermediate cuneiform\", \"medial cuneiform\"]\n",
    "#print(foot_bones)\n",
    "def find_bones(bone_name):\n",
    "    if bone_name.lower() in foot_bones:\n",
    "        print(\"Correct\")\n",
    "        foot_bones.remove(bone_name.lower())\n",
    "    else:\n",
    "        print(\"Incorrect\")\n",
    "\n",
    "find_bones(\"Talus\")\n",
    "print(foot_bones)\n",
    "print(\"total foot bones = \",len(foot_bones))"
   ]
  },
  {
   "cell_type": "code",
   "execution_count": 3,
   "metadata": {},
   "outputs": [
    {
     "name": "stdout",
     "output_type": "stream",
     "text": [
      "Incorrect\n",
      "['calcaneus', 'cuboid', 'navicular', 'lateral cuneiform', 'intermediate cuneiform', 'medial cuneiform']\n",
      "total foot bones =  6\n"
     ]
    }
   ],
   "source": [
    "# [ ] bonus version\n",
    "find_bones(\"Talus\")\n",
    "print(foot_bones)\n",
    "print(\"total foot bones = \",len(foot_bones))"
   ]
  },
  {
   "cell_type": "code",
   "execution_count": null,
   "metadata": {},
   "outputs": [],
   "source": []
  },
  {
   "cell_type": "code",
   "execution_count": 41,
   "metadata": {},
   "outputs": [
    {
     "name": "stdout",
     "output_type": "stream",
     "text": [
      "range(15, 30, 3)\n",
      "sub total:  15 = 15\n",
      "sub total:  18 = 33\n",
      "sub total:  21 = 54\n",
      "sub total:  24 = 78\n",
      "sub total:  27 = 105\n"
     ]
    }
   ],
   "source": [
    "list_num=(range(15,30,3))\n",
    "print(list_num)\n",
    "\n",
    "sub_total=0\n",
    "\n",
    "for item in list_num:\n",
    "    sub_total+=item\n",
    "    print(\"sub total: \",item, \"=\",sub_total)"
   ]
  },
  {
   "cell_type": "code",
   "execution_count": 7,
   "metadata": {},
   "outputs": [
    {
     "data": {
      "text/plain": [
       "range(0, 20)"
      ]
     },
     "execution_count": 7,
     "metadata": {},
     "output_type": "execute_result"
    }
   ],
   "source": [
    "range(20)"
   ]
  },
  {
   "cell_type": "code",
   "execution_count": 39,
   "metadata": {},
   "outputs": [
    {
     "name": "stdout",
     "output_type": "stream",
     "text": [
      "navicular\n",
      "intermediate cuneiform\n"
     ]
    }
   ],
   "source": [
    "foot_bones = [\"calcaneus\", \"talus\", \"cuboid\", \"navicular\", \"lateral cuneiform\",\n",
    "              \"intermediate cuneiform\", \"medial cuneiform\"]\n",
    "#length=int(len(foot_bones)/2)\n",
    "#print(length)\n",
    "\n",
    "for item in range(int(len(foot_bones)/2),int(len(foot_bones)),2):\n",
    "    print(foot_bones[item])"
   ]
  },
  {
   "cell_type": "code",
   "execution_count": 1,
   "metadata": {},
   "outputs": [
    {
     "name": "stdout",
     "output_type": "stream",
     "text": [
      "['calcaneus', 'talus', 'cuboid', 'navicular', 'lateral cuneiform', 'intermediate cuneiform', 'medial cuneiform', 'New York', 'Shanghai', 'Munich', 'Tokyo', 'Dubai', 'Mexico City', 'São Paulo', 'Hyderabad']\n",
      "['medial cuneiform', 'intermediate cuneiform', 'lateral cuneiform', 'navicular', 'cuboid', 'talus', 'calcaneus']\n"
     ]
    }
   ],
   "source": [
    "foot_bones = [\"calcaneus\", \"talus\", \"cuboid\", \"navicular\", \"lateral cuneiform\",\n",
    "              \"intermediate cuneiform\", \"medial cuneiform\"]\n",
    "cities = [\"New York\", \"Shanghai\", \"Munich\", \"Tokyo\", \"Dubai\", \"Mexico City\", \"São Paulo\", \"Hyderabad\"]\n",
    "\n",
    "new_list=foot_bones+cities\n",
    "\n",
    "print(new_list)\n",
    "\n",
    "foot_bones.reverse()\n",
    "print(foot_bones)"
   ]
  },
  {
   "cell_type": "code",
   "execution_count": 61,
   "metadata": {},
   "outputs": [
    {
     "name": "stdout",
     "output_type": "stream",
     "text": [
      "['calcaneus', 'cuboid', 'intermediate cuneiform', 'lateral cuneiform', 'medial cuneiform', 'navicular', 'talus']\n"
     ]
    }
   ],
   "source": [
    "foot_bones = [\"calcaneus\", \"talus\", \"cuboid\", \"navicular\", \"lateral cuneiform\",\n",
    "              \"intermediate cuneiform\", \"medial cuneiform\"]#foot_bones.sort()\n",
    "\n",
    "#print(foot_bones)\n",
    "\n",
    "foot_bones.sort()\n",
    "print(foot_bones)"
   ]
  },
  {
   "cell_type": "code",
   "execution_count": null,
   "metadata": {},
   "outputs": [],
   "source": []
  },
  {
   "cell_type": "code",
   "execution_count": 19,
   "metadata": {},
   "outputs": [
    {
     "name": "stdout",
     "output_type": "stream",
     "text": [
      "i am going to work \n",
      " ['i', 'am', 'going', 'to', 'work'] \n",
      "\n",
      "i\n",
      "am\n",
      "going\n",
      "to\n",
      "work\n",
      "\n",
      "\n",
      "i\n",
      " \n",
      "a\n",
      "m\n",
      " \n",
      "g\n",
      "o\n",
      "i\n",
      "n\n",
      "g\n",
      " \n",
      "t\n",
      "o\n",
      " \n",
      "w\n",
      "o\n",
      "r\n",
      "k\n",
      "\n",
      "\n",
      "work\n",
      "to\n",
      "going\n",
      "am\n",
      "i\n",
      "krow ot gniog ma i\n"
     ]
    }
   ],
   "source": [
    "tip=\"i am going to work\"\n",
    "tip_words=tip.split()\n",
    "\n",
    "print(tip,\"\\n\",tip_words,\"\\n\")\n",
    "\n",
    "for item in tip_words:\n",
    "    print(item)\n",
    "print(\"\\n\")\n",
    "\n",
    "for item in tip:\n",
    "    print(item)\n",
    "print(\"\\n\")\n",
    "    \n",
    "tip_words.reverse()\n",
    "for item in tip_words:\n",
    "    print(item)\n",
    "\n",
    "tip_reverse=tip[::-1]\n",
    "print(tip_reverse)\n"
   ]
  },
  {
   "cell_type": "code",
   "execution_count": 30,
   "metadata": {},
   "outputs": [
    {
     "name": "stdout",
     "output_type": "stream",
     "text": [
      "i am g\n",
      "ing t\n",
      " w\n",
      "rk\n"
     ]
    },
    {
     "data": {
      "text/plain": [
       "4"
      ]
     },
     "execution_count": 30,
     "metadata": {},
     "output_type": "execute_result"
    }
   ],
   "source": [
    "tip=\"i am going to work\"\n",
    "tip_words=tip.split(\"o\")\n",
    "\n",
    "for item in tip_words:\n",
    "    print(item)\n",
    "    \n",
    "len(tip_words)\n"
   ]
  },
  {
   "cell_type": "code",
   "execution_count": 44,
   "metadata": {},
   "outputs": [
    {
     "name": "stdout",
     "output_type": "stream",
     "text": [
      "['up to where the ', ' w', 's, ', 'nd th', 't th', 't ', \" is now deleted.\\nAnd it's \", ' little e', 'sier to see th', 't the deletion h', \"ppens when we're\\nusing \", ' ch', 'r', 'cter th', 't is visible.']\n"
     ]
    },
    {
     "data": {
      "text/plain": [
       "15"
      ]
     },
     "execution_count": 44,
     "metadata": {},
     "output_type": "execute_result"
    }
   ],
   "source": [
    "tip=\"\"\"up to where the a was, and that that a is now deleted.\n",
    "And it's a little easier to see that the deletion happens when we're\n",
    "using a character that is visible.\"\"\"\n",
    "\n",
    "#print(tip)\n",
    "\n",
    "tip_words=tip.split(\"a\")\n",
    "\n",
    "#for item in tip_words:\n",
    " #   print(item)\n",
    "    \n",
    "print(tip_words)\n",
    "    \n",
    "len(tip_words)\n",
    "\n",
    "\n"
   ]
  },
  {
   "cell_type": "code",
   "execution_count": 53,
   "metadata": {},
   "outputs": [
    {
     "name": "stdout",
     "output_type": "stream",
     "text": [
      "calcaneus...talus...cuboid...navicular...lateral cuneiform...intermediate cuneiform...medial cuneiform\n"
     ]
    }
   ],
   "source": [
    "foot_bones = [\"calcaneus\", \"talus\", \"cuboid\", \"navicular\", \"lateral cuneiform\",\n",
    "              \"intermediate cuneiform\", \"medial cuneiform\"]\n",
    "\n",
    "print(\"...\".join(foot_bones))"
   ]
  },
  {
   "cell_type": "code",
   "execution_count": 54,
   "metadata": {},
   "outputs": [],
   "source": [
    "mylist=[1,2,3]\n",
    "\n",
    "mylist."
   ]
  },
  {
   "cell_type": "code",
   "execution_count": null,
   "metadata": {},
   "outputs": [],
   "source": []
  }
 ],
 "metadata": {
  "anaconda-cloud": {},
  "kernelspec": {
   "display_name": "Python 3 (ipykernel)",
   "language": "python",
   "name": "python3"
  },
  "language_info": {
   "codemirror_mode": {
    "name": "ipython",
    "version": 3
   },
   "file_extension": ".py",
   "mimetype": "text/x-python",
   "name": "python",
   "nbconvert_exporter": "python",
   "pygments_lexer": "ipython3",
   "version": "3.9.7"
  }
 },
 "nbformat": 4,
 "nbformat_minor": 1
}
